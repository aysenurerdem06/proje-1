{
  "nbformat": 4,
  "nbformat_minor": 0,
  "metadata": {
    "colab": {
      "provenance": [],
      "include_colab_link": true
    },
    "kernelspec": {
      "name": "python3",
      "display_name": "Python 3"
    },
    "language_info": {
      "name": "python"
    }
  },
  "cells": [
    {
      "cell_type": "markdown",
      "metadata": {
        "id": "view-in-github",
        "colab_type": "text"
      },
      "source": [
        "<a href=\"https://colab.research.google.com/github/aysenurerdem06/proje-1/blob/main/NUR_ERDEM_DO%C4%9EAL_D%C4%B0L.ipynb\" target=\"_parent\"><img src=\"https://colab.research.google.com/assets/colab-badge.svg\" alt=\"Open In Colab\"/></a>"
      ]
    },
    {
      "cell_type": "code",
      "source": [
        "def dil_tespiti(metin):\n",
        "    diller = {\n",
        "        \"Türkçe\": [\"ve\", \"bir\", \"bu\", \"şu\", \"da\", \"de\"],\n",
        "        \"İngilizce\": [\"the\", \"is\", \"and\", \"of\", \"to\", \"in\"],\n",
        "        \"Almanca\": [\"und\", \"das\", \"ist\", \"die\", \"der\", \"ein\"],\n",
        "        \"Fransızca\": [\"le\", \"la\", \"et\", \"de\", \"un\", \"les\"],\n",
        "        \"İspanyolca\": [\"el\", \"la\", \"es\", \"de\", \"un\", \"los\"]\n",
        "    }\n",
        "\n",
        "    sayaclar = {dil: 0 for dil in diller}\n",
        "\n",
        "    kelimeler = metin.lower().split()\n",
        "    for kelime in kelimeler:\n",
        "        for dil, anahtar_kelimeler in diller.items():\n",
        "            if kelime in anahtar_kelimeler:\n",
        "                sayaclar[dil] += 1\n",
        "\n",
        "    en_yuksek_dil = max(sayaclar, key=sayaclar.get)\n",
        "\n",
        "    if sayaclar[en_yuksek_dil] == 0:\n",
        "        return \"Dil tespit edilemedi.\"\n",
        "    else:\n",
        "        return f\"Tahmini Dil: {en_yuksek_dil}\"\n",
        "\n",
        "metin = input(\"Bir metin girin: \")\n",
        "print(dil_tespiti(metin))\n"
      ],
      "metadata": {
        "colab": {
          "base_uri": "https://localhost:8080/"
        },
        "id": "DqnDvc3XE5X1",
        "outputId": "b480d931-14bd-4575-b246-8f31e4ed7d71"
      },
      "execution_count": null,
      "outputs": [
        {
          "output_type": "stream",
          "name": "stdout",
          "text": [
            "Bir metin girin: KOLA\n",
            "Dil tespit edilemedi.\n"
          ]
        }
      ]
    }
  ]
}